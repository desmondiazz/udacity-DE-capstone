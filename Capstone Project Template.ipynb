{
 "cells": [
  {
   "cell_type": "markdown",
   "metadata": {},
   "source": [
    "# Project Title\n",
    "### Data Engineering Capstone Project\n",
    "\n",
    "#### Project Summary\n",
    "--describe your project at a high level--\n",
    "\n",
    "The project follows the follow steps:\n",
    "* Step 1: Scope the Project and Gather Data\n",
    "* Step 2: Explore and Assess the Data\n",
    "* Step 3: Define the Data Model\n",
    "* Step 4: Run ETL to Model the Data\n",
    "* Step 5: Complete Project Write Up"
   ]
  },
  {
   "cell_type": "code",
   "execution_count": 1,
   "metadata": {},
   "outputs": [],
   "source": [
    "# Do all imports and installs here\n",
    "import pandas as pd\n",
    "import configparser\n",
    "from datetime import datetime\n",
    "import os\n",
    "from pyspark import SparkConf\n",
    "from pyspark.sql import SparkSession\n",
    "from pyspark.sql.functions import udf, col , to_date , monotonically_increasing_id , when,trim , explode , array , struct,expr,concat_ws , round , avg\n",
    "from pyspark.sql.functions import year, month, dayofmonth, hour, weekofyear, date_format , dayofweek,lit\n",
    "from pyspark.sql.types import StructType, StructField, StringType , LongType , DoubleType , TimestampType\n",
    "os.environ['PYSPARK_SUBMIT_ARGS'] = \"--packages=com.amazonaws:aws-java-sdk-bundle:1.11.271,org.apache.hadoop:hadoop-aws:3.1.2 pyspark-shell\"\n"
   ]
  },
  {
   "cell_type": "code",
   "execution_count": 2,
   "metadata": {},
   "outputs": [],
   "source": [
    "from pyspark.sql import SparkSession\n",
    "spark = SparkSession.builder.\\\n",
    "config(\"spark.jars.packages\",\"saurfang:spark-sas7bdat:2.0.0-s_2.11\")\\\n",
    ".config(\"spark.jars.packages\", \"org.apache.hadoop:hadoop-aws:2.7.0\") \\\n",
    ".config(\"spark.jars.packages\",\"com.amazonaws:aws-java-sdk-pom:1.10.34\") \\\n",
    ".enableHiveSupport().getOrCreate()"
   ]
  },
  {
   "cell_type": "markdown",
   "metadata": {},
   "source": [
    "### Step 1: Scope the Project and Gather Data\n",
    "\n",
    "#### Scope \n",
    "Scope of this project is to understand what crops are sown all over the world , and what was the avg temperature in the country during that time period. This will help us in understanding how agriculture pattern has evolved in  based on the weather changes over the years and which crops are grown under which temperature all over the world.\n",
    "\n",
    "#### Describe and Gather Data \n",
    "I will be using using two datasets for this project\n",
    "##### 1: World crop production (https://data.world/agriculture/crop-production)\n",
    "* This data includes crop production all over the world , from 1961 to 2014.\n",
    "* This Includes crop statistics for 173 products in Africa, the Americas, Asia, Europe, and Oceania\n",
    "\n",
    "\n",
    "##### 2: World Temperature Data (https://www.kaggle.com/berkeleyearth/climate-change-earth-surface-temperature-data)\n",
    "* This data includes temperature data from 1743 - 2013\n",
    "* The world temperature dataset has multiple datasets under it , for the purpose of this project i will be using GlobalLandTemperaturesByCountry.csv dataset.\n",
    "\n",
    "#### Information about the datasets\n",
    "* Both the datasets are of type csv.\n",
    "* World tempertature data will be filtered based on multiple conditions such as min and maximum temperature for given years as per the crop production data."
   ]
  },
  {
   "cell_type": "code",
   "execution_count": 3,
   "metadata": {},
   "outputs": [],
   "source": [
    "# Read in the data here\n",
    "world_crop_produce_data = spark.read.option('header',True).csv('./data/worldwide-crop-production/original/*')\n",
    "world_temp_data = spark.read.option('header',True).csv('./data/world_temperature_data/GlobalLandTemperaturesByCountry.csv')"
   ]
  },
  {
   "cell_type": "markdown",
   "metadata": {},
   "source": [
    "## Reusable udf's"
   ]
  },
  {
   "cell_type": "code",
   "execution_count": 75,
   "metadata": {},
   "outputs": [],
   "source": [
    "#Trim spaces of strings\n",
    "trim_str_udf = udf(lambda x : str(x.strip()))\n",
    "\n",
    "#Parse string to int\n",
    "str_to_int_udf = udf(lambda x: int(x))\n",
    "\n",
    "#Extract year(int) from datetime string y-m-d\n",
    "extract_year_udf = udf(lambda x: datetime.strptime(x, '%Y-%m-%d').year)\n",
    "\n",
    "#Extract month(int) from datetime string y-m-d\n",
    "extract_month_udf = udf(lambda x: datetime.strptime(x, '%Y-%m-%d').month)\n",
    "\n",
    "#Convert trim & string to lower case\n",
    "str_to_lower_udf = udf(lambda x: x.lower())\n",
    "\n",
    "#Parse string to float\n",
    "str_to_float_udf = udf(lambda x: float(x))\n",
    "\n",
    "\n",
    "def write_to_parquet(data,table_name,partition):\n",
    "    output_path = 'tables/' + table_name\n",
    "    query_builder = data.write.mode(\"overwrite\")\n",
    "    if(partition):\n",
    "        query_builder.partitionBy(partition)\n",
    "    query_builder.parquet(output_path)\n",
    "    \n",
    "def read_from_parquet(table):\n",
    "    path = './tables/' + table\n",
    "    return spark.read.parquet(path)\n",
    "\n",
    "def quality_checks(table_name):\n",
    "    df = read_from_parquet(table_name)\n",
    "    count = df.count();\n",
    "    if count == 0:\n",
    "        print(f\"Data quality check failed for {table_name} , contains 0 records!\")\n",
    "    else:\n",
    "        print(f\"Data quality check passed for {table_name} with {count:,} records.\")\n",
    "    return 0"
   ]
  },
  {
   "cell_type": "markdown",
   "metadata": {},
   "source": [
    "## Transpose world-crop-produce year columns to rows"
   ]
  },
  {
   "cell_type": "code",
   "execution_count": 5,
   "metadata": {},
   "outputs": [
    {
     "name": "stdout",
     "output_type": "stream",
     "text": [
      "+-----------+---------+-------------------+---------+--------------+------------+----+----+----+\n",
      "|       Area|Area Code|               Item|Item Code|       Element|Element Code|Unit|year| qty|\n",
      "+-----------+---------+-------------------+---------+--------------+------------+----+----+----+\n",
      "|Afghanistan|        2|Almonds, with shell|      221|Area harvested|        5312|  ha|1961|null|\n",
      "|Afghanistan|        2|Almonds, with shell|      221|Area harvested|        5312|  ha|1962|null|\n",
      "|Afghanistan|        2|Almonds, with shell|      221|Area harvested|        5312|  ha|1963|null|\n",
      "|Afghanistan|        2|Almonds, with shell|      221|Area harvested|        5312|  ha|1964|null|\n",
      "|Afghanistan|        2|Almonds, with shell|      221|Area harvested|        5312|  ha|1965|null|\n",
      "+-----------+---------+-------------------+---------+--------------+------------+----+----+----+\n",
      "only showing top 5 rows\n",
      "\n"
     ]
    }
   ],
   "source": [
    "world_crop_produce=world_crop_produce_data.select('Area','Area Code','Item','Item Code','Element','Element Code','Unit','Y1961','Y1962','Y1963','Y1964',\n",
    "'Y1965','Y1966','Y1967','Y1968','Y1969','Y1970','Y1971','Y1972','Y1973','Y1974','Y1975','Y1976','Y1977',\n",
    "'Y1978','Y1979','Y1980','Y1981','Y1982','Y1983','Y1984','Y1985','Y1986','Y1987','Y1988','Y1989','Y1990','Y1991',\n",
    "'Y1992','Y1993','Y1994','Y1995','Y1996','Y1997','Y1998','Y1999','Y2000','Y2001','Y2002','Y2003','Y2004',\n",
    "'Y2005','Y2006','Y2007','Y2008','Y2009','Y2010','Y2011','Y2012','Y2013','Y2014')\n",
    "\n",
    "def to_explode(df, by):\n",
    "\n",
    "    # Filter dtypes and split into column names and type description\n",
    "    cols, dtypes = zip(*((c, t) for (c, t) in df.dtypes if c not in by))\n",
    "    # Spark SQL supports only homogeneous columns\n",
    "    assert len(set(dtypes)) == 1, \"All columns have to be of the same type\"\n",
    "\n",
    "    # Create and explode an array of (column_name, column_value) structs\n",
    "    kvs = explode(array([\n",
    "      struct(lit(c).alias(\"year\"), col(c).alias(\"qty\")) for c in cols\n",
    "    ])).alias(\"kvs\")\n",
    "\n",
    "    return df.select(by + [kvs]).select(by + [\"kvs.year\", \"kvs.qty\"])\n",
    "\n",
    "world_crop_produce = to_explode(world_crop_produce, ['Area','Area Code','Item','Item Code','Element','Element Code','Unit'])\n",
    "world_crop_produce = world_crop_produce.withColumn('year',world_crop_produce.year.substr(2,4))\n",
    "world_crop_produce.show(5)\n"
   ]
  },
  {
   "cell_type": "markdown",
   "metadata": {},
   "source": [
    "# Step 2: Explore and Assess the Data\n"
   ]
  },
  {
   "cell_type": "code",
   "execution_count": 6,
   "metadata": {},
   "outputs": [
    {
     "name": "stdout",
     "output_type": "stream",
     "text": [
      "root\n",
      " |-- dt: string (nullable = true)\n",
      " |-- AverageTemperature: string (nullable = true)\n",
      " |-- AverageTemperatureUncertainty: string (nullable = true)\n",
      " |-- Country: string (nullable = true)\n",
      "\n",
      "+----------+------------------+-----------------------------+-------+\n",
      "|        dt|AverageTemperature|AverageTemperatureUncertainty|Country|\n",
      "+----------+------------------+-----------------------------+-------+\n",
      "|1743-11-01|4.3839999999999995|                        2.294|  Åland|\n",
      "|1743-12-01|              null|                         null|  Åland|\n",
      "|1744-01-01|              null|                         null|  Åland|\n",
      "|1744-02-01|              null|                         null|  Åland|\n",
      "|1744-03-01|              null|                         null|  Åland|\n",
      "+----------+------------------+-----------------------------+-------+\n",
      "only showing top 5 rows\n",
      "\n"
     ]
    }
   ],
   "source": [
    "world_temp_data.printSchema()\n",
    "world_temp_data.count()\n",
    "world_temp_data.show(5)"
   ]
  },
  {
   "cell_type": "code",
   "execution_count": 7,
   "metadata": {},
   "outputs": [
    {
     "name": "stdout",
     "output_type": "stream",
     "text": [
      "root\n",
      " |-- Area: string (nullable = true)\n",
      " |-- Area Code: string (nullable = true)\n",
      " |-- Item: string (nullable = true)\n",
      " |-- Item Code: string (nullable = true)\n",
      " |-- Element: string (nullable = true)\n",
      " |-- Element Code: string (nullable = true)\n",
      " |-- Unit: string (nullable = true)\n",
      " |-- year: string (nullable = false)\n",
      " |-- qty: string (nullable = true)\n",
      "\n"
     ]
    },
    {
     "data": {
      "text/plain": [
       "2255094"
      ]
     },
     "execution_count": 7,
     "metadata": {},
     "output_type": "execute_result"
    }
   ],
   "source": [
    "world_crop_produce.printSchema()\n",
    "world_crop_produce.count()"
   ]
  },
  {
   "cell_type": "markdown",
   "metadata": {},
   "source": [
    "## Filter temperature data based on crop years"
   ]
  },
  {
   "cell_type": "markdown",
   "metadata": {},
   "source": [
    "### Extract minimum and maximum year in the agriculture data to filter temperature data"
   ]
  },
  {
   "cell_type": "code",
   "execution_count": 8,
   "metadata": {},
   "outputs": [
    {
     "name": "stdout",
     "output_type": "stream",
     "text": [
      "1961 2014\n"
     ]
    }
   ],
   "source": [
    "\n",
    "crop_produce_years = world_crop_produce.select('year').distinct()\n",
    "crop_produce_years = crop_produce_years.withColumn('year',str_to_int_udf(crop_produce_years.year))\n",
    "min_crop_produce_year = int(crop_produce_years.agg({'year':'min'}).collect()[0][0])\n",
    "max_crop_produce_year = int(crop_produce_years.agg({'year':'max'}).collect()[0][0])\n",
    "print(min_crop_produce_year,max_crop_produce_year)"
   ]
  },
  {
   "cell_type": "markdown",
   "metadata": {},
   "source": [
    "### Filter temperature data based on the minimun and maximun year of agriculture data"
   ]
  },
  {
   "cell_type": "code",
   "execution_count": 9,
   "metadata": {},
   "outputs": [
    {
     "data": {
      "text/plain": [
       "153819"
      ]
     },
     "execution_count": 9,
     "metadata": {},
     "output_type": "execute_result"
    }
   ],
   "source": [
    "world_temperature_data = world_temp_data.withColumn('year',extract_year_udf(world_temp_data.dt)).withColumn('month',extract_month_udf(world_temp_data.dt))\n",
    "world_temperature_data = world_temperature_data.filter((col('year') >= min_crop_produce_year) & (col('year') <= max_crop_produce_year))\n",
    "world_temperature_data.count()"
   ]
  },
  {
   "cell_type": "markdown",
   "metadata": {},
   "source": [
    "### Step 2: Explore and Assess the Data\n",
    "#### Explore the Data \n",
    "Identify data quality issues, like missing values, duplicate data, etc.\n",
    "\n",
    "#### Cleaning Steps\n",
    "Document steps necessary to clean the data"
   ]
  },
  {
   "cell_type": "markdown",
   "metadata": {},
   "source": [
    "#### Initial crop data counts"
   ]
  },
  {
   "cell_type": "code",
   "execution_count": 10,
   "metadata": {},
   "outputs": [
    {
     "data": {
      "text/plain": [
       "2255094"
      ]
     },
     "execution_count": 10,
     "metadata": {},
     "output_type": "execute_result"
    }
   ],
   "source": [
    "world_crop_produce.count()"
   ]
  },
  {
   "cell_type": "markdown",
   "metadata": {},
   "source": [
    "* Filter crop produce data where quantity isnot null\n",
    "* Drop Duplicates from crop data"
   ]
  },
  {
   "cell_type": "code",
   "execution_count": 11,
   "metadata": {},
   "outputs": [
    {
     "data": {
      "text/plain": [
       "1725544"
      ]
     },
     "execution_count": 11,
     "metadata": {},
     "output_type": "execute_result"
    }
   ],
   "source": [
    "world_crop_produce = world_crop_produce.where(world_crop_produce.qty.isNotNull())\n",
    "world_crop_produce = world_crop_produce.dropDuplicates()\n",
    "world_crop_produce.count()"
   ]
  },
  {
   "cell_type": "markdown",
   "metadata": {},
   "source": [
    "### Initial temperature data count"
   ]
  },
  {
   "cell_type": "code",
   "execution_count": 12,
   "metadata": {},
   "outputs": [
    {
     "data": {
      "text/plain": [
       "153819"
      ]
     },
     "execution_count": 12,
     "metadata": {},
     "output_type": "execute_result"
    }
   ],
   "source": [
    "world_temperature_data.count()"
   ]
  },
  {
   "cell_type": "code",
   "execution_count": 13,
   "metadata": {},
   "outputs": [
    {
     "data": {
      "text/plain": [
       "152965"
      ]
     },
     "execution_count": 13,
     "metadata": {},
     "output_type": "execute_result"
    }
   ],
   "source": [
    "world_temperature_data = world_temperature_data.filter(world_temperature_data.AverageTemperature.isNotNull())\n",
    "world_temperature_data.count()"
   ]
  },
  {
   "attachments": {
    "Untitled%20%282%29.png": {
     "image/png": "[encoded data removed]"
    }
   },
   "cell_type": "markdown",
   "metadata": {},
   "source": [
    "### Step 3: Define the Data Model\n",
    "#### 3.1 Conceptual Data Model\n",
    "![Untitled%20%282%29.png](attachment:Untitled%20%282%29.png)\n",
    "\n",
    "\n",
    "\n",
    "* <b>crop_production_fact</b> : This table consist of all the crops produced , harvested etc in a particular country in a particular year.\n",
    "* <b>crops_dim</b> : crops_dim table has unique crop_codes and crops . crop_code will be referenced in crop_production_fact using a one-to-many relationship.\n",
    "* <b>countries_dim</b> : This table consists of countries and country codes . This table will be populated using combination on temperature data and crop produce data. Since some of the data wont match in the datasets , we might find that some of the country codes will be null. country_code will be referenced in crop_production_fact table using a one-to-many relationship.\n",
    "* <b>avg_temperature_by_country_fact</b> : This table will have actual average temperature data in particular country on a perticular date.\n",
    "* <b>avg_temperature_by_month_fact</b> : This table will be populated by generating average temperature for months using data from avg_temperature_by_country_fact.\n",
    "* <b>avg_temperature_by_year_fact</b> : This table will be populated by generating average temperature for years using data from avg_temperature_by_country_fact.\n",
    "\n",
    "Choosing this particular data model as i will be able to do temperature to crop analysis at daily / monthly and yearly basis. Combining countries will allow me to join crops and temerature data.\n",
    "\n",
    "#### 3.2 Mapping Out Data Pipelines\n",
    "* Create crop_productions_fact data by select / renaming necessary columns from world crop produce data.\n",
    "* Calulate average monthly / yearly temperature data from world temperature data.\n",
    "* Generate unique crop and crop codes from world_crop_produce data.\n",
    "* Generate unique countries data from world_crop_produce.\n",
    "* Generate unique countries data from world_temperature_data.\n",
    "* Combine countries from temperature and crop produce data.\n",
    "* Write all the conceptual data to peraquet files\n"
   ]
  },
  {
   "cell_type": "markdown",
   "metadata": {},
   "source": [
    "### Step 4: Run Pipelines to Model the Data \n",
    "#### 4.1 Create the data model\n",
    "Build the data pipelines to create the data model."
   ]
  },
  {
   "cell_type": "markdown",
   "metadata": {},
   "source": [
    "## Get list of items as crops from crops data"
   ]
  },
  {
   "cell_type": "code",
   "execution_count": 14,
   "metadata": {},
   "outputs": [
    {
     "name": "stdout",
     "output_type": "stream",
     "text": [
      "+--------------------+---------+\n",
      "|                crop|crop_code|\n",
      "+--------------------+---------+\n",
      "|      Safflower seed|      280|\n",
      "|  Flax fibre and tow|      773|\n",
      "| Lettuce and chicory|      372|\n",
      "|            Soybeans|      236|\n",
      "|Grapefruit (inc. ...|      507|\n",
      "+--------------------+---------+\n",
      "only showing top 5 rows\n",
      "\n"
     ]
    }
   ],
   "source": [
    "crops = world_crop_produce.select('Item' , 'Item Code').distinct()\n",
    "crops = crops.withColumnRenamed('Item','crop').withColumnRenamed('Item Code','crop_code')\n",
    "crops.show(5)"
   ]
  },
  {
   "cell_type": "markdown",
   "metadata": {},
   "source": [
    "## Get list of countries from agriculture data"
   ]
  },
  {
   "cell_type": "code",
   "execution_count": 15,
   "metadata": {},
   "outputs": [
    {
     "name": "stdout",
     "output_type": "stream",
     "text": [
      "+--------------------+------------+\n",
      "|             country|country_code|\n",
      "+--------------------+------------+\n",
      "|saint kitts and n...|         188|\n",
      "|             romania|         183|\n",
      "|     china, mainland|          41|\n",
      "|            suriname|         207|\n",
      "|               yemen|         249|\n",
      "+--------------------+------------+\n",
      "only showing top 5 rows\n",
      "\n"
     ]
    }
   ],
   "source": [
    "countries = world_crop_produce.select('Area' , 'Area Code').distinct()\n",
    "countries = countries.withColumnRenamed('Area','country').withColumnRenamed('Area Code','country_code')\n",
    "countries = countries.withColumn('country',str_to_lower_udf(countries.country))\n",
    "countries.show(5)"
   ]
  },
  {
   "cell_type": "markdown",
   "metadata": {},
   "source": [
    "## Get countries from temperature data"
   ]
  },
  {
   "cell_type": "code",
   "execution_count": 16,
   "metadata": {},
   "outputs": [
    {
     "name": "stdout",
     "output_type": "stream",
     "text": [
      "+------------+\n",
      "|     country|\n",
      "+------------+\n",
      "|        chad|\n",
      "|    anguilla|\n",
      "|kingman reef|\n",
      "|    paraguay|\n",
      "|      russia|\n",
      "+------------+\n",
      "only showing top 5 rows\n",
      "\n"
     ]
    }
   ],
   "source": [
    "temp_countries = world_temperature_data.selectExpr('Country as country').distinct()\n",
    "temp_countries = temp_countries.withColumn('country',str_to_lower_udf(temp_countries.country))\n",
    "temp_countries.show(5)"
   ]
  },
  {
   "cell_type": "markdown",
   "metadata": {},
   "source": [
    "## Match countries in crop and temperature data"
   ]
  },
  {
   "cell_type": "code",
   "execution_count": 17,
   "metadata": {},
   "outputs": [
    {
     "name": "stdout",
     "output_type": "stream",
     "text": [
      "+------------+------------+\n",
      "|     country|country_code|\n",
      "+------------+------------+\n",
      "|        chad|          39|\n",
      "|    anguilla|        null|\n",
      "|kingman reef|        null|\n",
      "|    paraguay|         169|\n",
      "|      russia|        null|\n",
      "+------------+------------+\n",
      "only showing top 5 rows\n",
      "\n"
     ]
    }
   ],
   "source": [
    "common_countries = temp_countries.join(countries, on=['country'],how='left')\n",
    "common_countries.show(5)"
   ]
  },
  {
   "cell_type": "markdown",
   "metadata": {},
   "source": [
    "## Generate average temperature by year\n",
    "###### https://sciencing.com/calculate-average-temperature-7527994.html"
   ]
  },
  {
   "cell_type": "code",
   "execution_count": 18,
   "metadata": {},
   "outputs": [
    {
     "name": "stdout",
     "output_type": "stream",
     "text": [
      "+----+--------------+--------+\n",
      "|year|       country|avg_temp|\n",
      "+----+--------------+--------+\n",
      "|1961|   Afghanistan|    14.0|\n",
      "|1961|        Africa|    24.0|\n",
      "|1961|       Albania|    13.0|\n",
      "|1961|       Algeria|    23.0|\n",
      "|1961|American Samoa|    27.0|\n",
      "+----+--------------+--------+\n",
      "only showing top 5 rows\n",
      "\n"
     ]
    }
   ],
   "source": [
    "world_temperature_data = world_temperature_data.withColumn('avg_temp',world_temperature_data.AverageTemperature.cast('float'))\n",
    "avg_yearly_temp = world_temperature_data.groupBy('year','country').agg(avg('avg_temp').alias('avg_temp'))\n",
    "avg_yearly_temp = avg_yearly_temp.withColumn('avg_temp',round(avg_yearly_temp.avg_temp))\n",
    "avg_yearly_temp.sort('year','country').show(5)"
   ]
  },
  {
   "cell_type": "markdown",
   "metadata": {},
   "source": [
    "## Generate average temperature by month\n",
    "###### https://sciencing.com/calculate-average-temperature-7527994.html"
   ]
  },
  {
   "cell_type": "code",
   "execution_count": 19,
   "metadata": {},
   "outputs": [
    {
     "name": "stdout",
     "output_type": "stream",
     "text": [
      "+-----------+----+-----+--------+\n",
      "|    country|year|month|avg_temp|\n",
      "+-----------+----+-----+--------+\n",
      "|Afghanistan|1961|    1|    1.48|\n",
      "|Afghanistan|1961|   10|   12.71|\n",
      "|Afghanistan|1961|   11|    6.87|\n",
      "|Afghanistan|1961|   12|    3.54|\n",
      "|Afghanistan|1961|    2|    1.59|\n",
      "+-----------+----+-----+--------+\n",
      "only showing top 5 rows\n",
      "\n"
     ]
    }
   ],
   "source": [
    "avg_monthly_temp = world_temperature_data.groupBy('country','year','month').agg(avg('avg_temp').alias('avg_temp'))\n",
    "avg_monthly_temp = avg_monthly_temp.withColumn('avg_temp',round(avg_monthly_temp.avg_temp,2))\n",
    "avg_monthly_temp.sort('country','year','month').show(5)"
   ]
  },
  {
   "cell_type": "markdown",
   "metadata": {},
   "source": [
    "### Generate average daily temperature"
   ]
  },
  {
   "cell_type": "code",
   "execution_count": 20,
   "metadata": {},
   "outputs": [
    {
     "name": "stdout",
     "output_type": "stream",
     "text": [
      "+----------------+--------+-------+\n",
      "|temperature_date|avg_temp|country|\n",
      "+----------------+--------+-------+\n",
      "|      1961-01-01|  -1.463|  Åland|\n",
      "|      1961-02-01|   1.178|  Åland|\n",
      "|      1961-03-01|   2.396|  Åland|\n",
      "|      1961-04-01|   3.051|  Åland|\n",
      "|      1961-05-01|   7.503|  Åland|\n",
      "+----------------+--------+-------+\n",
      "only showing top 5 rows\n",
      "\n"
     ]
    }
   ],
   "source": [
    "avg_countries_temp = world_temperature_data.selectExpr('dt AS temperature_date','avg_temp','Country AS country')\n",
    "avg_countries_temp.show(5)"
   ]
  },
  {
   "cell_type": "markdown",
   "metadata": {},
   "source": [
    "### Generate crop production data"
   ]
  },
  {
   "cell_type": "code",
   "execution_count": 21,
   "metadata": {},
   "outputs": [
    {
     "name": "stdout",
     "output_type": "stream",
     "text": [
      "+------------+---------+--------------+------+---------------+------------+\n",
      "|country_code|item_code|       element|  unit|production_year|    quantity|\n",
      "+------------+---------+--------------+------+---------------+------------+\n",
      "|           2|      526|Area harvested|    ha|           1984| 5920.000000|\n",
      "|           2|      558|Area harvested|    ha|           1961| 6800.000000|\n",
      "|           2|      558|Area harvested|    ha|           1996| 9016.000000|\n",
      "|           2|      767|    Production|tonnes|           1995|22000.000000|\n",
      "|           2|      329|          Seed|tonnes|           1988| 1925.000000|\n",
      "+------------+---------+--------------+------+---------------+------------+\n",
      "only showing top 5 rows\n",
      "\n"
     ]
    }
   ],
   "source": [
    "crop_produce_data = world_crop_produce.select('Area Code','Item Code','Element','Unit','year','qty')\n",
    "crop_produce_data = crop_produce_data.withColumnRenamed('Item Code','item_code')\\\n",
    ".withColumnRenamed('Element','element')\\\n",
    ".withColumnRenamed('Unit','unit')\\\n",
    ".withColumnRenamed('qty','quantity')\\\n",
    ".withColumnRenamed('Area Code','country_code')\\\n",
    ".withColumnRenamed('year','production_year')\n",
    "crop_produce_data.show(5)"
   ]
  },
  {
   "cell_type": "markdown",
   "metadata": {},
   "source": [
    "### Write data to peraquet files"
   ]
  },
  {
   "cell_type": "code",
   "execution_count": 22,
   "metadata": {},
   "outputs": [],
   "source": [
    "write_to_parquet(crop_produce_data,'crop_production_fact',('production_year'))"
   ]
  },
  {
   "cell_type": "code",
   "execution_count": 23,
   "metadata": {},
   "outputs": [],
   "source": [
    "write_to_parquet(avg_countries_temp,'avg_temperature_by_country_fact',('country'))"
   ]
  },
  {
   "cell_type": "code",
   "execution_count": 24,
   "metadata": {},
   "outputs": [],
   "source": [
    "write_to_parquet(avg_monthly_temp,'avg_temperature_by_month_fact',('year','month'))"
   ]
  },
  {
   "cell_type": "code",
   "execution_count": 25,
   "metadata": {},
   "outputs": [],
   "source": [
    "write_to_parquet(avg_yearly_temp,'avg_temperature_by_year_fact',('year'))"
   ]
  },
  {
   "cell_type": "code",
   "execution_count": 26,
   "metadata": {},
   "outputs": [],
   "source": [
    "write_to_parquet(common_countries,'countries_dim',None)"
   ]
  },
  {
   "cell_type": "code",
   "execution_count": 30,
   "metadata": {},
   "outputs": [],
   "source": [
    "write_to_parquet(crops,'crops_dim',None)"
   ]
  },
  {
   "cell_type": "markdown",
   "metadata": {},
   "source": [
    "#### 4.2 Data Quality Checks\n",
    "Explain the data quality checks you'll perform to ensure the pipeline ran as expected. These could include:\n",
    " * Integrity constraints on the relational database (e.g., unique key, data type, etc.)\n",
    " * Unit tests for the scripts to ensure they are doing the right thing\n",
    " * Source/Count checks to ensure completeness\n",
    " \n",
    "Run Quality Checks"
   ]
  },
  {
   "cell_type": "code",
   "execution_count": 78,
   "metadata": {},
   "outputs": [
    {
     "name": "stdout",
     "output_type": "stream",
     "text": [
      "Data quality check passed for crop_production_fact with 1,725,544 records.\n",
      "Data quality check passed for avg_temperature_by_country_fact with 152,965 records.\n",
      "Data quality check passed for avg_temperature_by_month_fact with 152,965 records.\n",
      "Data quality check passed for avg_temperature_by_year_fact with 12,826 records.\n",
      "Data quality check passed for countries_dim with 242 records.\n",
      "Data quality check passed for crops_dim with 182 records.\n"
     ]
    }
   ],
   "source": [
    "for table_name in ['crop_production_fact','avg_temperature_by_country_fact','avg_temperature_by_month_fact','avg_temperature_by_year_fact','countries_dim','crops_dim']:    \n",
    "    quality_checks(table_name)"
   ]
  },
  {
   "cell_type": "markdown",
   "metadata": {},
   "source": [
    "#### 4.3 Data dictionary \n",
    "Create a data dictionary for your data model. For each field, provide a brief description of what the data is and where it came from. You can include the data dictionary in the notebook or in a separate file."
   ]
  },
  {
   "cell_type": "code",
   "execution_count": 85,
   "metadata": {},
   "outputs": [
    {
     "data": {
      "text/html": [
       "<style>\n",
       "  table {margin-left: 0 !important;}\n",
       "</style>\n"
      ],
      "text/plain": [
       "<IPython.core.display.HTML object>"
      ]
     },
     "metadata": {},
     "output_type": "display_data"
    }
   ],
   "source": [
    "%%html\n",
    "<style>\n",
    "  table {margin-left: 0 !important;}\n",
    "</style>"
   ]
  },
  {
   "cell_type": "markdown",
   "metadata": {},
   "source": [
    "### crop_production_fact data dictionary"
   ]
  },
  {
   "cell_type": "markdown",
   "metadata": {},
   "source": [
    "|Key | Description |\n",
    "| -: |-------------: |\n",
    "|country_code | Unique id for each country|\n",
    "|item_code | Unique id for each crop|\n",
    "|element | Type of farmin practice, sowing / harvesting etc|\n",
    "|unit| Units used to identify the element ,  hacter/tonnes etc|\n",
    "|production_year | Year in which the data was recorded for|\n",
    "|quantity | Amount of units produced / harvested etc|"
   ]
  },
  {
   "cell_type": "markdown",
   "metadata": {},
   "source": [
    "### crops_dim data dictionary"
   ]
  },
  {
   "cell_type": "markdown",
   "metadata": {},
   "source": [
    "#### Step 5: Complete Project Write Up\n",
    "* Clearly state the rationale for the choice of tools and technologies for the project.\n",
    "* Propose how often the data should be updated and why.\n",
    "* Write a description of how you would approach the problem differently under the following scenarios:\n",
    " * The data was increased by 100x.\n",
    " * The data populates a dashboard that must be updated on a daily basis by 7am every day.\n",
    " * The database needed to be accessed by 100+ people."
   ]
  },
  {
   "cell_type": "code",
   "execution_count": null,
   "metadata": {},
   "outputs": [],
   "source": []
  },
  {
   "cell_type": "code",
   "execution_count": null,
   "metadata": {},
   "outputs": [],
   "source": []
  },
  {
   "cell_type": "code",
   "execution_count": null,
   "metadata": {},
   "outputs": [],
   "source": []
  },
  {
   "cell_type": "code",
   "execution_count": null,
   "metadata": {},
   "outputs": [],
   "source": []
  },
  {
   "cell_type": "code",
   "execution_count": null,
   "metadata": {},
   "outputs": [],
   "source": []
  },
  {
   "cell_type": "code",
   "execution_count": null,
   "metadata": {},
   "outputs": [],
   "source": []
  }
 ],
 "metadata": {
  "kernelspec": {
   "display_name": "Python 3",
   "language": "python",
   "name": "python3"
  },
  "language_info": {
   "codemirror_mode": {
    "name": "ipython",
    "version": 3
   },
   "file_extension": ".py",
   "mimetype": "text/x-python",
   "name": "python",
   "nbconvert_exporter": "python",
   "pygments_lexer": "ipython3",
   "version": "3.8.6"
  }
 },
 "nbformat": 4,
 "nbformat_minor": 2
}
