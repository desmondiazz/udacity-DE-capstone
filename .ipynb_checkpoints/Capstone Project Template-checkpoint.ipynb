{
 "cells": [
  {
   "cell_type": "markdown",
   "metadata": {},
   "source": [
    "# Project Title\n",
    "### Data Engineering Capstone Project\n",
    "\n",
    "#### Project Summary\n",
    "--describe your project at a high level--\n",
    "\n",
    "The project follows the follow steps:\n",
    "* Step 1: Scope the Project and Gather Data\n",
    "* Step 2: Explore and Assess the Data\n",
    "* Step 3: Define the Data Model\n",
    "* Step 4: Run ETL to Model the Data\n",
    "* Step 5: Complete Project Write Up"
   ]
  },
  {
   "cell_type": "code",
   "execution_count": 1,
   "metadata": {},
   "outputs": [],
   "source": [
    "# Do all imports and installs here\n",
    "import pandas as pd\n",
    "import configparser\n",
    "from datetime import datetime\n",
    "import os\n",
    "from pyspark import SparkConf\n",
    "from pyspark.sql import SparkSession\n",
    "from pyspark.sql.functions import udf, col , to_date , monotonically_increasing_id , when,trim , explode , array , struct,expr,concat_ws\n",
    "from pyspark.sql.functions import year, month, dayofmonth, hour, weekofyear, date_format , dayofweek,lit\n",
    "from pyspark.sql.types import StructType, StructField, StringType , LongType , DoubleType , TimestampType\n",
    "os.environ['PYSPARK_SUBMIT_ARGS'] = \"--packages=com.amazonaws:aws-java-sdk-bundle:1.11.271,org.apache.hadoop:hadoop-aws:3.1.2 pyspark-shell\"\n"
   ]
  },
  {
   "cell_type": "code",
   "execution_count": 2,
   "metadata": {},
   "outputs": [],
   "source": [
    "from pyspark.sql import SparkSession\n",
    "spark = SparkSession.builder.\\\n",
    "config(\"spark.jars.packages\",\"saurfang:spark-sas7bdat:2.0.0-s_2.11\")\\\n",
    ".config(\"spark.jars.packages\", \"org.apache.hadoop:hadoop-aws:2.7.0\") \\\n",
    ".config(\"spark.jars.packages\",\"com.amazonaws:aws-java-sdk-pom:1.10.34\") \\\n",
    ".enableHiveSupport().getOrCreate()"
   ]
  },
  {
   "cell_type": "markdown",
   "metadata": {},
   "source": [
    "### Step 1: Scope the Project and Gather Data\n",
    "\n",
    "#### Scope \n",
    "Scope of this project is to understand what crops are sown in India , and what was the avg weather during that time period. This will help us in understanding how agriculture pattern has evolved in India based on the weather changes over the years.\n",
    "\n",
    "#### Describe and Gather Data \n",
    "I will be using using two datasets for this project\n",
    "##### 1: District-wise, season-wise crop production statistics from 1997 (https://data.gov.in/resources/district-wise-season-wise-crop-production-statistics-1997)\n",
    "* This data includes crop production in India from 1997-2015\n",
    "* This Includes what was the crops produced in a particular state. And its production quantity(Tonnes) and area(Hectare) \n",
    "\n",
    "##### 2: World Temperature Data (https://www.kaggle.com/berkeleyearth/climate-change-earth-surface-temperature-data)\n",
    "* This data includes temperature data from 1743 - 2013\n",
    "* The world temperature dataset has multiple datasets under it , for the purpose of this project i will be using GlobalLandTemperaturesByState.csv dataset . As this perticular dataset is consist weather for a state in a perticular country on a perticular day.\n",
    "\n",
    "#### Information about the datasets\n",
    "* Both the datasets are of type csv.\n",
    "* Combined together both the datasets consists of over 891766 rows.\n",
    "* World tempertature data will be filtered based on multiple conditions such as country as India and min and maximum years as per the crop production data."
   ]
  },
  {
   "cell_type": "code",
   "execution_count": 3,
   "metadata": {},
   "outputs": [],
   "source": [
    "# Read in the data here\n",
    "#india_crop_produce = spark.read.option(\"header\",True).csv('./data/india-crop-production/crop_production.csv')\n",
    "#world_temperature_data = spark.read.option('header',True).csv('./data/world_temperature_data/GlobalLandTemperaturesByState.csv')\n",
    "world_crop_produce = spark.read.option('header',True).csv('./data/worldwide-crop-production/original/*')"
   ]
  },
  {
   "cell_type": "markdown",
   "metadata": {},
   "source": [
    "## Reusable udf's"
   ]
  },
  {
   "cell_type": "code",
   "execution_count": 4,
   "metadata": {},
   "outputs": [],
   "source": [
    "#Trim spaces of strings\n",
    "trim_str_udf = udf(lambda x : str(x.strip()))\n",
    "\n",
    "#Parse string to int\n",
    "str_to_int_udf = udf(lambda x: int(x))\n",
    "\n",
    "#Extract year(int) from datetime string y-m-d\n",
    "extract_year_udf = udf(lambda x: datetime.strptime(x, '%Y-%m-%d').year)\n",
    "\n",
    "#Remove last character from string\n",
    "reomve_last_char_from_str_udf = udf(lambda x:x[0:-1],StringType())"
   ]
  },
  {
   "cell_type": "code",
   "execution_count": 5,
   "metadata": {},
   "outputs": [],
   "source": [
    "world_produce_key_columns = spark.createDataFrame(['Area','Item','Element','Unit'],StringType())\n",
    "world_produce_year_columns = spark.createDataFrame(world_crop_produce.schema.names,StringType())\n",
    "world_produce_year_columns = world_produce_year_columns.filter(world_produce_year_columns['value'].rlike(r'\\d+'))\\\n",
    ".filter(world_produce_year_columns['value'].contains('F'))\n",
    "world_produce_year_columns = world_produce_year_columns.withColumn('value',reomve_last_char_from_str_udf('value'))\n",
    "world_crop_produce_columns = world_produce_key_columns.union(world_produce_year_columns)\n"
   ]
  },
  {
   "cell_type": "code",
   "execution_count": 18,
   "metadata": {},
   "outputs": [
    {
     "name": "stdout",
     "output_type": "stream",
     "text": [
      "+-----------+--------------------+--------------+------+-------------+-------------+-------------+-------------+-------------+-------------+-------------+-------------+-------------+-------------+-------------+-------------+-------------+-------------+-------------+-------------+-------------+-------------+-------------+-------------+-------------+-------------+-------------+-------------+-------------+-------------+-------------+-------------+-------------+-------------+-------------+-------------+-------------+-------------+-------------+-------------+-------------+-------------+-------------+-------------+------------+-------------+-------------+-------------+-------------+-------------+-------------+-------------+-------------+-------------+-------------+-------------+-------------+-------------+\n",
      "|       Area|                Item|       Element|  Unit|        Y1961|        Y1962|        Y1963|        Y1964|        Y1965|        Y1966|        Y1967|        Y1968|        Y1969|        Y1970|        Y1971|        Y1972|        Y1973|        Y1974|        Y1975|        Y1976|        Y1977|        Y1978|        Y1979|        Y1980|        Y1981|        Y1982|        Y1983|        Y1984|        Y1985|        Y1986|        Y1987|        Y1988|        Y1989|        Y1990|        Y1991|        Y1992|        Y1993|        Y1994|        Y1995|        Y1996|        Y1997|        Y1998|        Y1999|        Y2000|       Y2001|        Y2002|        Y2003|        Y2004|        Y2005|        Y2006|        Y2007|        Y2008|        Y2009|        Y2010|        Y2011|        Y2012|        Y2013|        Y2014|\n",
      "+-----------+--------------------+--------------+------+-------------+-------------+-------------+-------------+-------------+-------------+-------------+-------------+-------------+-------------+-------------+-------------+-------------+-------------+-------------+-------------+-------------+-------------+-------------+-------------+-------------+-------------+-------------+-------------+-------------+-------------+-------------+-------------+-------------+-------------+-------------+-------------+-------------+-------------+-------------+-------------+-------------+-------------+-------------+-------------+------------+-------------+-------------+-------------+-------------+-------------+-------------+-------------+-------------+-------------+-------------+-------------+-------------+-------------+\n",
      "|Afghanistan| Almonds, with shell|Area harvested|    ha|         null|         null|         null|         null|         null|         null|         null|         null|         null|         null|         null|         null|         null|         null|     0.000000|  5900.000000|  6000.000000|  6000.000000|  6000.000000|  5800.000000|  5800.000000|  5800.000000|  5700.000000|  5700.000000|  5600.000000|  5500.000000|  5500.000000|  5400.000000|  5400.000000|  6010.000000|  5500.000000|  5500.000000|  5500.000000|  5500.000000|  5500.000000|  5500.000000|  5500.000000|  5500.000000|  5500.000000|  7000.000000| 9000.000000|  5500.000000|  5700.000000| 12000.000000| 10635.000000| 12000.000000| 12000.000000| 12000.000000| 11029.000000| 11210.000000| 13469.000000| 13490.000000| 14114.000000| 13703.000000|\n",
      "|Afghanistan| Almonds, with shell|         Yield| hg/ha|         null|         null|         null|         null|         null|         null|         null|         null|         null|         null|         null|         null|         null|         null|         null| 16610.000000| 15000.000000| 20000.000000| 17500.000000| 17069.000000| 13793.000000| 18966.000000| 17018.000000| 18421.000000| 16071.000000| 18182.000000| 16364.000000| 16667.000000| 16296.000000| 15807.000000| 16364.000000| 18000.000000| 16364.000000| 16364.000000| 16364.000000| 16364.000000| 16364.000000| 16364.000000| 20000.000000| 17143.000000|16667.000000| 20514.000000| 24561.000000| 12250.000000| 14696.000000| 16667.000000| 26234.000000| 35000.000000| 39154.000000| 49955.000000| 45000.000000| 45960.000000| 29910.000000| 19996.000000|\n",
      "|Afghanistan| Almonds, with shell|    Production|tonnes|         null|         null|         null|         null|         null|         null|         null|         null|         null|         null|         null|         null|         null|         null|     0.000000|  9800.000000|  9000.000000| 12000.000000| 10500.000000|  9900.000000|  8000.000000| 11000.000000|  9700.000000| 10500.000000|  9000.000000| 10000.000000|  9000.000000|  9000.000000|  8800.000000|  9500.000000|  9000.000000|  9900.000000|  9000.000000|  9000.000000|  9000.000000|  9000.000000|  9000.000000|  9000.000000| 11000.000000| 12000.000000|15000.000000| 11283.000000| 14000.000000| 14700.000000| 15630.000000| 20000.000000| 31481.000000| 42000.000000| 43183.000000| 56000.000000| 60611.000000| 62000.000000| 42215.000000| 27400.000000|\n",
      "|Afghanistan|Anise, badian, fe...|Area harvested|    ha|         null|         null|         null|         null|         null|         null|         null|         null|         null|         null|         null|         null|         null|         null|         null|         null|         null|         null|         null|         null|         null|         null|         null|         null|         null|   700.000000|   700.000000|   300.000000|  1100.000000|  1300.000000|  2128.000000|   700.000000|  2534.000000|  3063.000000|  3000.000000|  7000.000000|  4000.000000| 12000.000000| 11288.000000|  4000.000000| 1600.000000|  3300.000000|  6800.000000| 15000.000000| 16000.000000| 18017.000000| 28000.000000| 15000.000000| 16904.000000| 17000.000000| 18505.000000| 18500.000000| 18500.000000| 20300.000000|\n",
      "|Afghanistan|Anise, badian, fe...|         Yield| hg/ha|         null|         null|         null|         null|         null|         null|         null|         null|         null|         null|         null|         null|         null|         null|         null|         null|         null|         null|         null|         null|         null|         null|         null|         null|         null|  7143.000000|  7143.000000|  6667.000000|  7273.000000|  7692.000000|  7016.000000|  7143.000000|  6818.000000|  6734.000000|  6667.000000|  6000.000000|  6250.000000|  5917.000000|  6201.000000|  6250.000000| 6250.000000|  6061.000000|  6029.000000|  6000.000000|  6250.000000|  6208.000000|  6071.000000|  6000.000000|  6140.000000|  6000.000000|  6304.000000|  6757.000000|  6757.000000|  6513.000000|\n",
      "|Afghanistan|Anise, badian, fe...|    Production|tonnes|         null|         null|         null|         null|         null|         null|         null|         null|         null|         null|         null|         null|         null|         null|         null|         null|         null|         null|         null|         null|         null|         null|         null|         null|         null|   500.000000|   500.000000|   200.000000|   800.000000|  1000.000000|  1493.000000|   500.000000|  1728.000000|  2062.000000|  2000.000000|  4200.000000|  2500.000000|  7100.000000|  7000.000000|  2500.000000| 1000.000000|  2000.000000|  4100.000000|  9000.000000| 10000.000000| 11186.000000| 17000.000000|  9000.000000| 10379.000000| 10200.000000| 11665.000000| 12500.000000| 12500.000000| 13220.000000|\n",
      "|Afghanistan|              Apples|Area harvested|    ha|  2220.000000|  2220.000000|  2220.000000|  2350.000000|  2480.000000|  2740.000000|  3060.000000|  2990.000000|  3040.000000|  3060.000000|  3060.000000|  3150.000000|  3210.000000|  3270.000000|  3270.000000|  3270.000000|  3280.000000|  3250.000000|  3150.000000|  3150.000000|  3080.000000|  2960.000000|  2850.000000|  2730.000000|  2660.000000|  2590.000000|  2230.000000|  2330.000000|  2340.000000|  2531.000000|  2312.000000|  2316.000000|  2300.000000|  2350.000000|  2484.000000|  2800.000000|  3176.000000|  3600.000000|  3952.000000|  4536.000000| 4567.000000|  4511.000000|  3935.000000|  2311.000000|  2751.000000|  7000.000000|  7000.000000|  7000.000000|  8550.000000|  8550.000000|  8863.000000|  9148.000000| 10341.000000| 12247.000000|\n",
      "|Afghanistan|              Apples|         Yield| hg/ha| 68018.000000| 68018.000000| 68018.000000| 78298.000000| 82258.000000| 83212.000000| 90196.000000| 93311.000000| 92763.000000| 89216.000000| 70261.000000| 84444.000000| 85981.000000| 85015.000000| 85321.000000| 80122.000000| 47256.000000| 69846.000000| 68571.000000| 70794.000000| 71753.000000| 72297.000000| 72982.000000| 73260.000000| 71805.000000| 74903.000000| 74439.000000| 72532.000000| 72222.000000| 74098.000000| 74642.000000| 74274.000000| 73913.000000| 74468.000000| 74676.000000| 74152.000000| 73376.000000| 72473.000000| 71569.000000| 70796.000000|70310.000000| 68648.000000| 69385.000000| 70668.000000| 72672.000000| 75000.000000| 85000.000000| 81919.000000| 85105.000000| 70000.000000| 70000.000000| 76519.000000| 76005.000000| 73000.000000|\n",
      "|Afghanistan|              Apples|    Production|tonnes| 15100.000000| 15100.000000| 15100.000000| 18400.000000| 20400.000000| 22800.000000| 27600.000000| 27900.000000| 28200.000000| 27300.000000| 21500.000000| 26600.000000| 27600.000000| 27800.000000| 27900.000000| 26200.000000| 15500.000000| 22700.000000| 21600.000000| 22300.000000| 22100.000000| 21400.000000| 20800.000000| 20000.000000| 19100.000000| 19400.000000| 16600.000000| 16900.000000| 16900.000000| 18756.000000| 17255.000000| 17200.000000| 17000.000000| 17500.000000| 18547.000000| 20763.000000| 23301.000000| 26091.000000| 28287.000000| 32115.000000|32113.000000| 30969.000000| 27303.000000| 16331.000000| 19992.000000| 52500.000000| 59500.000000| 57343.000000| 72765.000000| 59850.000000| 62041.000000| 70000.000000| 78597.000000| 89403.000000|\n",
      "|Afghanistan|            Apricots|Area harvested|    ha|  4820.000000|  4820.000000|  4820.000000|  5100.000000|  5370.000000|  5930.000000|  6620.000000|  6480.000000|  6590.000000|  6630.000000|  6630.000000|  6810.000000|  6950.000000|  7070.000000|  7080.000000|  7080.000000|  7100.000000|  7050.000000|  6810.000000|  6820.000000|  6680.000000|  6410.000000|  6170.000000|  5920.000000|  5750.000000|  5610.000000|  4830.000000|  5050.000000|  5060.000000|  3910.000000|  4494.000000|  4992.000000|  5100.000000|  5061.000000|  5150.000000|  5169.000000|  5203.000000|  5244.000000|  5303.000000|  5363.000000| 5200.000000|  6014.000000|  7007.000000|  5200.000000|  7286.000000|  8030.000000|  8000.000000|  8000.000000|  8170.000000|  8320.000000|  8320.000000|  8350.000000|  9005.000000|  9005.000000|\n",
      "|Afghanistan|            Apricots|         Yield| hg/ha| 66390.000000| 66390.000000| 66390.000000| 76863.000000| 80819.000000| 81619.000000| 88671.000000| 91667.000000| 91047.000000| 87632.000000| 68929.000000| 82966.000000| 84604.000000| 83734.000000| 84040.000000| 78672.000000| 46620.000000| 68511.000000| 67548.000000| 69648.000000| 70509.000000| 70827.000000| 71799.000000| 71791.000000| 70783.000000| 73619.000000| 73085.000000| 71089.000000| 71344.000000| 78935.000000| 76758.000000| 73511.000000| 72549.000000| 72506.000000| 72816.000000| 72721.000000| 72834.000000| 72940.000000| 73016.000000| 72866.000000|73077.000000| 71528.000000| 70104.000000| 68750.000000| 61346.000000| 62267.000000| 72500.000000| 73445.000000| 73439.000000| 80000.000000| 88161.000000|100000.000000| 99944.000000| 99944.000000|\n",
      "|Afghanistan|            Apricots|    Production|tonnes| 32000.000000| 32000.000000| 32000.000000| 39200.000000| 43400.000000| 48400.000000| 58700.000000| 59400.000000| 60000.000000| 58100.000000| 45700.000000| 56500.000000| 58800.000000| 59200.000000| 59500.000000| 55700.000000| 33100.000000| 48300.000000| 46000.000000| 47500.000000| 47100.000000| 45400.000000| 44300.000000| 42500.000000| 40700.000000| 41300.000000| 35300.000000| 35900.000000| 36100.000000| 30863.000000| 34497.000000| 36700.000000| 37000.000000| 36694.000000| 37500.000000| 37593.000000| 37893.000000| 38249.000000| 38718.000000| 39075.000000|38000.000000| 43014.000000| 49122.000000| 35750.000000| 44695.000000| 50000.000000| 58000.000000| 58756.000000| 60000.000000| 66560.000000| 73350.000000| 83500.000000| 90000.000000| 90000.000000|\n",
      "|Afghanistan|              Barley|Area harvested|    ha|350000.000000|350000.000000|350000.000000|350000.000000|350000.000000|350000.000000|316000.000000|317000.000000|317000.000000|315000.000000|315000.000000|320000.000000|320000.000000|340200.000000|320000.000000|310000.000000|310000.000000|310000.000000|304000.000000|306000.000000|278000.000000|257000.000000|242000.000000|234000.000000|221000.000000|213000.000000|213000.000000|212000.000000|211000.000000|205000.000000|204000.000000|250000.000000|250000.000000|250000.000000|225000.000000|220000.000000|200000.000000|200000.000000|180000.000000|124000.000000|87000.000000|236000.000000|270000.000000|315000.000000|240000.000000|236000.000000|236000.000000|236000.000000|267000.000000|212000.000000|190000.000000|280000.000000|278000.000000|342472.000000|\n",
      "|Afghanistan|              Barley|         Yield| hg/ha| 10800.000000| 10800.000000| 10800.000000| 10857.000000| 10857.000000| 10714.000000| 11297.000000| 11388.000000| 11514.000000| 11746.000000| 11270.000000| 10938.000000| 11250.000000| 11170.000000| 12000.000000| 12903.000000|  9677.000000| 10484.000000| 10461.000000| 10490.000000| 10791.000000| 10739.000000| 10992.000000| 10855.000000| 10860.000000| 10845.000000| 10845.000000| 11085.000000| 10948.000000| 10537.000000| 10637.000000|  8000.000000| 10000.000000|  9200.000000|  8889.000000| 10000.000000| 12500.000000| 12000.000000| 12000.000000|  5968.000000|10000.000000| 14619.000000|  8889.000000|  9206.000000| 14042.000000| 15424.000000| 15678.000000| 14110.000000| 18202.000000| 20613.000000| 16100.000000| 18000.000000| 18489.000000| 15213.000000|\n",
      "|Afghanistan|              Barley|    Production|tonnes|378000.000000|378000.000000|378000.000000|380000.000000|380000.000000|375000.000000|357000.000000|361000.000000|365000.000000|370000.000000|355000.000000|350000.000000|360000.000000|380000.000000|384000.000000|400000.000000|300000.000000|325000.000000|318000.000000|321000.000000|300000.000000|276000.000000|266000.000000|254000.000000|240000.000000|231000.000000|231000.000000|235000.000000|231000.000000|216000.000000|217000.000000|200000.000000|250000.000000|230000.000000|200000.000000|220000.000000|250000.000000|240000.000000|216000.000000| 74000.000000|87000.000000|345000.000000|240000.000000|290000.000000|337000.000000|364000.000000|370000.000000|333000.000000|486000.000000|437000.000000|305900.000000|504000.000000|514000.000000|521000.000000|\n",
      "|Afghanistan|              Barley|          Seed|tonnes| 28000.000000| 28000.000000| 28000.000000| 28000.000000| 28000.000000| 25280.000000| 25360.000000| 25360.000000| 25200.000000| 25200.000000| 25600.000000| 25600.000000| 27216.000000| 25600.000000| 24800.000000| 24800.000000| 24800.000000| 24320.000000| 24480.000000| 22240.000000| 20560.000000| 19360.000000| 18720.000000| 17680.000000| 17040.000000| 17040.000000| 16960.000000| 16880.000000| 16400.000000| 16320.000000| 20000.000000| 20000.000000| 20000.000000| 18000.000000| 17600.000000| 16000.000000| 16000.000000| 14400.000000|  9920.000000|  6960.000000|18880.000000| 21600.000000| 25200.000000| 19200.000000| 25960.000000| 25960.000000| 25960.000000| 29370.000000| 23320.000000| 20900.000000| 30800.000000| 22240.000000| 22400.000000|         null|\n",
      "|Afghanistan|         Berries nes|Area harvested|    ha|  6800.000000|  6800.000000|  6800.000000|  6800.000000|  6800.000000|  6800.000000|  6800.000000|  6900.000000|  6900.000000|  6500.000000|  6500.000000|  6900.000000|  6900.000000|  6900.000000|  6800.000000|  6500.000000|  6500.000000|  6800.000000|  6800.000000|  6800.000000|  6800.000000|  6800.000000|  6800.000000|  6800.000000|  6800.000000|  6700.000000|  6700.000000|  6700.000000|  6600.000000| 11012.000000| 10687.000000| 10358.000000| 10027.000000|  9693.000000|  9356.000000|  9016.000000|  8673.000000|  8328.000000|  7979.000000|  7628.000000| 7273.000000|  6915.000000|  6675.000000|  6369.000000|  6000.000000|  5000.000000|  5586.000000|  5500.000000|  3800.000000|  3800.000000|  3800.000000|  3800.000000|  3800.000000|  3800.000000|\n",
      "|Afghanistan|         Berries nes|         Yield| hg/ha| 88235.000000| 88235.000000| 88235.000000| 88235.000000| 88235.000000| 88235.000000| 88235.000000| 87681.000000| 87681.000000| 84615.000000| 76923.000000| 87681.000000| 87681.000000| 87681.000000| 89706.000000| 84615.000000| 61538.000000| 88235.000000| 88235.000000| 88235.000000| 88235.000000| 88235.000000| 86765.000000| 86765.000000| 86765.000000| 86567.000000| 86567.000000| 86567.000000| 86364.000000| 91483.000000| 91103.000000| 90723.000000| 90342.000000| 89962.000000| 89582.000000| 89202.000000| 88822.000000| 88441.000000| 88061.000000| 87681.000000|87301.000000| 86920.000000| 87509.000000| 85617.000000| 85000.000000| 85000.000000| 85929.000000| 85455.000000| 85000.000000| 78574.000000| 73002.000000| 65789.000000| 65789.000000| 60826.000000|\n",
      "|Afghanistan|         Berries nes|    Production|tonnes| 60000.000000| 60000.000000| 60000.000000| 60000.000000| 60000.000000| 60000.000000| 60000.000000| 60500.000000| 60500.000000| 55000.000000| 50000.000000| 60500.000000| 60500.000000| 60500.000000| 61000.000000| 55000.000000| 40000.000000| 60000.000000| 60000.000000| 60000.000000| 60000.000000| 60000.000000| 59000.000000| 59000.000000| 59000.000000| 58000.000000| 58000.000000| 58000.000000| 57000.000000|100746.000000| 97359.000000| 93972.000000| 90586.000000| 87199.000000| 83812.000000| 80426.000000| 77039.000000| 73652.000000| 70266.000000| 66879.000000|63492.000000| 60106.000000| 58415.000000| 54527.000000| 51000.000000| 42500.000000| 48000.000000| 47000.000000| 32300.000000| 29858.000000| 27741.000000| 25000.000000| 25000.000000| 23114.000000|\n",
      "|Afghanistan|         Cotton lint|    Production|tonnes| 17000.000000| 26000.000000| 36700.000000| 26000.000000| 25000.000000| 20300.000000| 23100.000000| 23700.000000| 28700.000000| 25300.000000| 21000.000000| 19300.000000| 36000.000000| 48300.000000| 53300.000000| 53000.000000| 45500.000000| 44000.000000| 35000.000000| 21700.000000| 20000.000000| 15000.000000| 16700.000000| 22700.000000| 18000.000000| 18000.000000| 13000.000000| 15000.000000| 11700.000000|  9300.000000| 22000.000000| 22000.000000| 22000.000000| 22000.000000| 22000.000000| 22000.000000| 22000.000000| 22000.000000| 22000.000000| 18500.000000|18500.000000| 18500.000000| 10890.000000|  9240.000000| 10890.000000| 10560.000000| 11567.000000| 11550.000000| 14148.000000| 10890.000000| 10890.000000| 11979.000000| 13917.000000| 14000.000000|\n",
      "+-----------+--------------------+--------------+------+-------------+-------------+-------------+-------------+-------------+-------------+-------------+-------------+-------------+-------------+-------------+-------------+-------------+-------------+-------------+-------------+-------------+-------------+-------------+-------------+-------------+-------------+-------------+-------------+-------------+-------------+-------------+-------------+-------------+-------------+-------------+-------------+-------------+-------------+-------------+-------------+-------------+-------------+-------------+-------------+------------+-------------+-------------+-------------+-------------+-------------+-------------+-------------+-------------+-------------+-------------+-------------+-------------+-------------+\n",
      "only showing top 20 rows\n",
      "\n"
     ]
    },
    {
     "name": "stdout",
     "output_type": "stream",
     "text": [
      "+-----------+-------------------+--------------+----+-----+-----------+\n",
      "|       Area|               Item|       Element|Unit| year|        qty|\n",
      "+-----------+-------------------+--------------+----+-----+-----------+\n",
      "|Afghanistan|Almonds, with shell|Area harvested|  ha|Y1961|       null|\n",
      "|Afghanistan|Almonds, with shell|Area harvested|  ha|Y1962|       null|\n",
      "|Afghanistan|Almonds, with shell|Area harvested|  ha|Y1963|       null|\n",
      "|Afghanistan|Almonds, with shell|Area harvested|  ha|Y1964|       null|\n",
      "|Afghanistan|Almonds, with shell|Area harvested|  ha|Y1965|       null|\n",
      "|Afghanistan|Almonds, with shell|Area harvested|  ha|Y1966|       null|\n",
      "|Afghanistan|Almonds, with shell|Area harvested|  ha|Y1967|       null|\n",
      "|Afghanistan|Almonds, with shell|Area harvested|  ha|Y1968|       null|\n",
      "|Afghanistan|Almonds, with shell|Area harvested|  ha|Y1969|       null|\n",
      "|Afghanistan|Almonds, with shell|Area harvested|  ha|Y1970|       null|\n",
      "|Afghanistan|Almonds, with shell|Area harvested|  ha|Y1971|       null|\n",
      "|Afghanistan|Almonds, with shell|Area harvested|  ha|Y1972|       null|\n",
      "|Afghanistan|Almonds, with shell|Area harvested|  ha|Y1973|       null|\n",
      "|Afghanistan|Almonds, with shell|Area harvested|  ha|Y1974|       null|\n",
      "|Afghanistan|Almonds, with shell|Area harvested|  ha|Y1975|   0.000000|\n",
      "|Afghanistan|Almonds, with shell|Area harvested|  ha|Y1976|5900.000000|\n",
      "|Afghanistan|Almonds, with shell|Area harvested|  ha|Y1977|6000.000000|\n",
      "|Afghanistan|Almonds, with shell|Area harvested|  ha|Y1978|6000.000000|\n",
      "|Afghanistan|Almonds, with shell|Area harvested|  ha|Y1979|6000.000000|\n",
      "|Afghanistan|Almonds, with shell|Area harvested|  ha|Y1980|5800.000000|\n",
      "+-----------+-------------------+--------------+----+-----+-----------+\n",
      "only showing top 20 rows\n",
      "\n"
     ]
    }
   ],
   "source": [
    "temp=world_crop_produce.select('Area','Item','Element','Unit','Y1961','Y1962','Y1963','Y1964',\n",
    "'Y1965',\n",
    "'Y1966',\n",
    "'Y1967',\n",
    "'Y1968',\n",
    "'Y1969',\n",
    "'Y1970',\n",
    "'Y1971',\n",
    "'Y1972',\n",
    "'Y1973',\n",
    "'Y1974',\n",
    "'Y1975',\n",
    "'Y1976',\n",
    "'Y1977',\n",
    "'Y1978',\n",
    "'Y1979',\n",
    "'Y1980',\n",
    "'Y1981',\n",
    "'Y1982',\n",
    "'Y1983',\n",
    "'Y1984',\n",
    "'Y1985',\n",
    "'Y1986',\n",
    "'Y1987',\n",
    "'Y1988',\n",
    "'Y1989',\n",
    "'Y1990',\n",
    "'Y1991',\n",
    "'Y1992',\n",
    "'Y1993',\n",
    "'Y1994',\n",
    "'Y1995',\n",
    "'Y1996',\n",
    "'Y1997',\n",
    "'Y1998',\n",
    "'Y1999',\n",
    "'Y2000',\n",
    "'Y2001',\n",
    "'Y2002',\n",
    "'Y2003',\n",
    "'Y2004',\n",
    "'Y2005',\n",
    "'Y2006',\n",
    "'Y2007',\n",
    "'Y2008',\n",
    "'Y2009',\n",
    "'Y2010',\n",
    "'Y2011',\n",
    "'Y2012',\n",
    "'Y2013','Y2014')\n",
    "temp.show()\n",
    "\n",
    "def to_explode(df, by):\n",
    "\n",
    "    # Filter dtypes and split into column names and type description\n",
    "    cols, dtypes = zip(*((c, t) for (c, t) in df.dtypes if c not in by))\n",
    "    # Spark SQL supports only homogeneous columns\n",
    "    assert len(set(dtypes)) == 1, \"All columns have to be of the same type\"\n",
    "\n",
    "    # Create and explode an array of (column_name, column_value) structs\n",
    "    kvs = explode(array([\n",
    "      struct(lit(c).alias(\"year\"), col(c).alias(\"qty\")) for c in cols\n",
    "    ])).alias(\"kvs\")\n",
    "\n",
    "    return df.select(by + [kvs]).select(by + [\"kvs.year\", \"kvs.qty\"])\n",
    "\n",
    "df = to_explode(temp, ['Area','Item','Element','Unit'])\n",
    "df.show()\n"
   ]
  },
  {
   "cell_type": "markdown",
   "metadata": {},
   "source": [
    "# Step 2: Explore and Assess the Data\n"
   ]
  },
  {
   "cell_type": "code",
   "execution_count": 8,
   "metadata": {},
   "outputs": [
    {
     "name": "stdout",
     "output_type": "stream",
     "text": [
      "root\n",
      " |-- State_Name: string (nullable = true)\n",
      " |-- District_Name: string (nullable = true)\n",
      " |-- Crop_Year: string (nullable = true)\n",
      " |-- Season: string (nullable = true)\n",
      " |-- Crop: string (nullable = true)\n",
      " |-- Area: string (nullable = true)\n",
      " |-- Production: string (nullable = true)\n",
      "\n"
     ]
    }
   ],
   "source": [
    "crop_produce.printSchema()"
   ]
  },
  {
   "cell_type": "code",
   "execution_count": 9,
   "metadata": {},
   "outputs": [
    {
     "name": "stdout",
     "output_type": "stream",
     "text": [
      "root\n",
      " |-- dt: string (nullable = true)\n",
      " |-- AverageTemperature: string (nullable = true)\n",
      " |-- AverageTemperatureUncertainty: string (nullable = true)\n",
      " |-- State: string (nullable = true)\n",
      " |-- Country: string (nullable = true)\n",
      "\n"
     ]
    }
   ],
   "source": [
    "world_temperature_data.printSchema()"
   ]
  },
  {
   "cell_type": "markdown",
   "metadata": {},
   "source": [
    "### Extract minimum and maximum year in the agriculture data to filter temperature data"
   ]
  },
  {
   "cell_type": "code",
   "execution_count": 6,
   "metadata": {},
   "outputs": [
    {
     "name": "stdout",
     "output_type": "stream",
     "text": [
      "1997 2015\n"
     ]
    }
   ],
   "source": [
    "\n",
    "crop_produce_years = crop_produce.select('Crop_Year').distinct()\n",
    "crop_produce_years = crop_produce_years.withColumn('year',str_to_int_udf(crop_produce_years.Crop_Year))\n",
    "min_crop_produce_year = int(crop_produce_years.agg({'year':'min'}).collect()[0][0])\n",
    "max_crop_produce_year = int(crop_produce_years.agg({'year':'max'}).collect()[0][0])\n",
    "print(min_crop_produce_year,max_crop_produce_year)"
   ]
  },
  {
   "cell_type": "markdown",
   "metadata": {},
   "source": [
    "### Filter temperature data based on the minimun and maximun year of agriculture data"
   ]
  },
  {
   "cell_type": "code",
   "execution_count": 10,
   "metadata": {},
   "outputs": [
    {
     "ename": "NameError",
     "evalue": "name 'extract_year_udf' is not defined",
     "output_type": "error",
     "traceback": [
      "\u001b[0;31m---------------------------------------------------------------------------\u001b[0m",
      "\u001b[0;31mNameError\u001b[0m                                 Traceback (most recent call last)",
      "\u001b[0;32m<ipython-input-10-09959401f5b4>\u001b[0m in \u001b[0;36m<module>\u001b[0;34m\u001b[0m\n\u001b[0;32m----> 1\u001b[0;31m \u001b[0mworld_temperature_data\u001b[0m \u001b[0;34m=\u001b[0m \u001b[0mworld_temperature_data\u001b[0m\u001b[0;34m.\u001b[0m\u001b[0mwithColumn\u001b[0m\u001b[0;34m(\u001b[0m\u001b[0;34m'year'\u001b[0m\u001b[0;34m,\u001b[0m\u001b[0mextract_year_udf\u001b[0m\u001b[0;34m(\u001b[0m\u001b[0mworld_temperature_data\u001b[0m\u001b[0;34m.\u001b[0m\u001b[0mdt\u001b[0m\u001b[0;34m)\u001b[0m\u001b[0;34m)\u001b[0m\u001b[0;34m\u001b[0m\u001b[0;34m\u001b[0m\u001b[0m\n\u001b[0m\u001b[1;32m      2\u001b[0m \u001b[0mworld_temperature_data\u001b[0m \u001b[0;34m=\u001b[0m \u001b[0mworld_temperature_data\u001b[0m\u001b[0;34m.\u001b[0m\u001b[0mfilter\u001b[0m\u001b[0;34m(\u001b[0m\u001b[0;34m(\u001b[0m\u001b[0mcol\u001b[0m\u001b[0;34m(\u001b[0m\u001b[0;34m'year'\u001b[0m\u001b[0;34m)\u001b[0m \u001b[0;34m>=\u001b[0m \u001b[0mmin_crop_produce_year\u001b[0m\u001b[0;34m)\u001b[0m \u001b[0;34m&\u001b[0m \u001b[0;34m(\u001b[0m\u001b[0mcol\u001b[0m\u001b[0;34m(\u001b[0m\u001b[0;34m'year'\u001b[0m\u001b[0;34m)\u001b[0m \u001b[0;34m<=\u001b[0m \u001b[0mmax_crop_produce_year\u001b[0m\u001b[0;34m)\u001b[0m\u001b[0;34m)\u001b[0m\u001b[0;34m\u001b[0m\u001b[0;34m\u001b[0m\u001b[0m\n\u001b[1;32m      3\u001b[0m \u001b[0mindia_temperature_data\u001b[0m \u001b[0;34m=\u001b[0m \u001b[0mworld_temperature_data\u001b[0m\u001b[0;34m.\u001b[0m\u001b[0mfilter\u001b[0m\u001b[0;34m(\u001b[0m\u001b[0mcol\u001b[0m\u001b[0;34m(\u001b[0m\u001b[0;34m'Country'\u001b[0m\u001b[0;34m)\u001b[0m \u001b[0;34m==\u001b[0m \u001b[0;34m'India'\u001b[0m\u001b[0;34m)\u001b[0m\u001b[0;34m\u001b[0m\u001b[0;34m\u001b[0m\u001b[0m\n\u001b[1;32m      4\u001b[0m \u001b[0mindia_temperature_data\u001b[0m\u001b[0;34m.\u001b[0m\u001b[0mcount\u001b[0m\u001b[0;34m(\u001b[0m\u001b[0;34m)\u001b[0m\u001b[0;34m\u001b[0m\u001b[0;34m\u001b[0m\u001b[0m\n",
      "\u001b[0;31mNameError\u001b[0m: name 'extract_year_udf' is not defined"
     ]
    }
   ],
   "source": [
    "world_temperature_data = world_temperature_data.withColumn('year',extract_year_udf(world_temperature_data.dt))\n",
    "world_temperature_data = world_temperature_data.filter((col('year') >= min_crop_produce_year) & (col('year') <= max_crop_produce_year))\n",
    "india_temperature_data = world_temperature_data.filter(col('Country') == 'India')\n",
    "india_temperature_data.count()"
   ]
  },
  {
   "cell_type": "markdown",
   "metadata": {},
   "source": [
    "### Step 2: Explore and Assess the Data\n",
    "#### Explore the Data \n",
    "Identify data quality issues, like missing values, duplicate data, etc.\n",
    "\n",
    "#### Cleaning Steps\n",
    "Document steps necessary to clean the data"
   ]
  },
  {
   "cell_type": "code",
   "execution_count": null,
   "metadata": {},
   "outputs": [],
   "source": [
    "# Performing cleaning tasks here\n",
    "\n",
    "\n",
    "\n"
   ]
  },
  {
   "cell_type": "markdown",
   "metadata": {},
   "source": [
    "### Step 3: Define the Data Model\n",
    "#### 3.1 Conceptual Data Model\n",
    "Map out the conceptual data model and explain why you chose that model\n",
    "\n",
    "#### 3.2 Mapping Out Data Pipelines\n",
    "List the steps necessary to pipeline the data into the chosen data model"
   ]
  },
  {
   "cell_type": "markdown",
   "metadata": {},
   "source": [
    "### Step 4: Run Pipelines to Model the Data \n",
    "#### 4.1 Create the data model\n",
    "Build the data pipelines to create the data model."
   ]
  },
  {
   "cell_type": "code",
   "execution_count": null,
   "metadata": {},
   "outputs": [],
   "source": [
    "# Write code here"
   ]
  },
  {
   "cell_type": "markdown",
   "metadata": {},
   "source": [
    "#### 4.2 Data Quality Checks\n",
    "Explain the data quality checks you'll perform to ensure the pipeline ran as expected. These could include:\n",
    " * Integrity constraints on the relational database (e.g., unique key, data type, etc.)\n",
    " * Unit tests for the scripts to ensure they are doing the right thing\n",
    " * Source/Count checks to ensure completeness\n",
    " \n",
    "Run Quality Checks"
   ]
  },
  {
   "cell_type": "code",
   "execution_count": null,
   "metadata": {},
   "outputs": [],
   "source": [
    "# Perform quality checks here"
   ]
  },
  {
   "cell_type": "markdown",
   "metadata": {},
   "source": [
    "#### 4.3 Data dictionary \n",
    "Create a data dictionary for your data model. For each field, provide a brief description of what the data is and where it came from. You can include the data dictionary in the notebook or in a separate file."
   ]
  },
  {
   "cell_type": "markdown",
   "metadata": {},
   "source": [
    "#### Step 5: Complete Project Write Up\n",
    "* Clearly state the rationale for the choice of tools and technologies for the project.\n",
    "* Propose how often the data should be updated and why.\n",
    "* Write a description of how you would approach the problem differently under the following scenarios:\n",
    " * The data was increased by 100x.\n",
    " * The data populates a dashboard that must be updated on a daily basis by 7am every day.\n",
    " * The database needed to be accessed by 100+ people."
   ]
  },
  {
   "cell_type": "code",
   "execution_count": null,
   "metadata": {},
   "outputs": [],
   "source": []
  },
  {
   "cell_type": "code",
   "execution_count": null,
   "metadata": {},
   "outputs": [],
   "source": []
  },
  {
   "cell_type": "code",
   "execution_count": null,
   "metadata": {},
   "outputs": [],
   "source": []
  },
  {
   "cell_type": "code",
   "execution_count": null,
   "metadata": {},
   "outputs": [],
   "source": []
  },
  {
   "cell_type": "code",
   "execution_count": null,
   "metadata": {},
   "outputs": [],
   "source": []
  },
  {
   "cell_type": "code",
   "execution_count": null,
   "metadata": {},
   "outputs": [],
   "source": []
  }
 ],
 "metadata": {
  "kernelspec": {
   "display_name": "Python 3",
   "language": "python",
   "name": "python3"
  },
  "language_info": {
   "codemirror_mode": {
    "name": "ipython",
    "version": 3
   },
   "file_extension": ".py",
   "mimetype": "text/x-python",
   "name": "python",
   "nbconvert_exporter": "python",
   "pygments_lexer": "ipython3",
   "version": "3.8.6"
  }
 },
 "nbformat": 4,
 "nbformat_minor": 2
}
